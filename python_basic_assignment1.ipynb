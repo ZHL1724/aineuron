{
 "cells": [
  {
   "cell_type": "markdown",
   "id": "5dabcfd4",
   "metadata": {},
   "source": [
    "1. In the below elements which of them are values or an expression? eg:- values can be integer or string and expressions will be mathematical operators.\n",
    "\n",
    "* -expression\n",
    "\n",
    "'hello' --value string\n",
    "-87.8 --value Float\n",
    "- --expression\n",
    "/ --expression\n",
    "+ --expression\n",
    "6 --value integer"
   ]
  },
  {
   "cell_type": "markdown",
   "id": "a261e68b",
   "metadata": {},
   "source": [
    "2. What is the difference between string and variable?\n",
    "String is a type jf data, for example 'zhl','mean' etc.\n",
    "Variable is the thing in which we can store data just like a container\n"
   ]
  },
  {
   "cell_type": "markdown",
   "id": "617932cb",
   "metadata": {},
   "source": [
    "3. Describe three different data types.\n",
    "Integer: numeric values, 157 or 2564 and etc.\n",
    "Bool: True or False, True=1,False=0\n",
    "Float: floating values, 25.57,46.57 and etc."
   ]
  },
  {
   "cell_type": "markdown",
   "id": "ee73210d",
   "metadata": {},
   "source": [
    "4. What is an expression made up of? What do all expressions do?\n",
    "\n",
    "Expression is made up of values, containers, and mathematical operators (operands) e.g \n",
    " a = 2 + 3     and expressions are used to evaluate the values or represent the result on the screen"
   ]
  },
  {
   "cell_type": "markdown",
   "id": "2e74842b",
   "metadata": {},
   "source": [
    "5. This assignment statements, like spam = 10. What is the difference between an expression and a statement?\n",
    "\n",
    "Expression is made up of values, containers, and mathematical operators (operands) and the statement is just like a command that a python interpreter executes like print.\n"
   ]
  },
  {
   "cell_type": "markdown",
   "id": "2768de1c",
   "metadata": {},
   "source": [
    "6. After running the following code, what does the variable bacon contain?"
   ]
  },
  {
   "cell_type": "code",
   "execution_count": 7,
   "id": "285e2e3d",
   "metadata": {},
   "outputs": [
    {
     "data": {
      "text/plain": [
       "23"
      ]
     },
     "execution_count": 7,
     "metadata": {},
     "output_type": "execute_result"
    }
   ],
   "source": [
    "bacon=22\n",
    "bacon+1"
   ]
  },
  {
   "cell_type": "markdown",
   "id": "b0571d10",
   "metadata": {},
   "source": [
    "7. What should the values of the following two terms be?"
   ]
  },
  {
   "cell_type": "code",
   "execution_count": 8,
   "id": "39ddce48",
   "metadata": {},
   "outputs": [
    {
     "data": {
      "text/plain": [
       "'spamspamspam'"
      ]
     },
     "execution_count": 8,
     "metadata": {},
     "output_type": "execute_result"
    }
   ],
   "source": [
    "'spam' + 'spamspam'"
   ]
  },
  {
   "cell_type": "code",
   "execution_count": 9,
   "id": "62b810a5",
   "metadata": {},
   "outputs": [
    {
     "data": {
      "text/plain": [
       "'spamspamspam'"
      ]
     },
     "execution_count": 9,
     "metadata": {},
     "output_type": "execute_result"
    }
   ],
   "source": [
    "'spam'*3"
   ]
  },
  {
   "cell_type": "markdown",
   "id": "bb9eca22",
   "metadata": {},
   "source": [
    "8. Why is eggs a valid variable name while 100 is invalid?\n",
    "\n",
    "Because we can't giving variable integer value, but we can do like this: egg100 and it's will be valid"
   ]
  },
  {
   "cell_type": "markdown",
   "id": "a26192e6",
   "metadata": {},
   "source": [
    "9. What three functions can be used to get the integer, floating-point number, or string version of a value?\n",
    "integer int()\n",
    "floating-point number float()\n",
    "string str()\n",
    "\n",
    "10. Why does this expression cause an error? How can you fix it?\n",
    "'I have eaten ' + 99 + ' burritos.'\n",
    "\n",
    "Because 99 is integer and others are string type, we can fix it like this:\n",
    "'I have eaten ' + '99' + ' burritos.'\n"
   ]
  }
 ],
 "metadata": {
  "kernelspec": {
   "display_name": "Python 3 (ipykernel)",
   "language": "python",
   "name": "python3"
  },
  "language_info": {
   "codemirror_mode": {
    "name": "ipython",
    "version": 3
   },
   "file_extension": ".py",
   "mimetype": "text/x-python",
   "name": "python",
   "nbconvert_exporter": "python",
   "pygments_lexer": "ipython3",
   "version": "3.9.7"
  }
 },
 "nbformat": 4,
 "nbformat_minor": 5
}
